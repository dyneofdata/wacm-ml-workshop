{
 "cells": [
  {
   "cell_type": "markdown",
   "metadata": {},
   "source": [
    "# Decision Tree #\n",
    "\n",
    "#### Step 0: <font color='red'> IMPORTANT! </font> Intall one more dependency\n",
    "Before running the code below, you need to install one more dependency, graphviz. <br>\n",
    "First open command line window and run these two commands:"
   ]
  },
  {
   "cell_type": "code",
   "execution_count": null,
   "metadata": {},
   "outputs": [],
   "source": [
    "pip install graphviz\n",
    "conda install graphviz"
   ]
  },
  {
   "cell_type": "markdown",
   "metadata": {},
   "source": [
    "#### Step 1: Understand the dataset and our task\n",
    "\n",
    "Dataset bc_wisc.csv contains data on breast cancer tumors from a cohort of patients in Wisconsin. The rows are tumor samples, and the columns are different features/variables/attributes about the tumor. The first column contains sample ID, which we don't need to train our model. The second column, 'diagnosis', says whether the given tumor was benign = 0 or malignant = 1. The third column + the rest have measurement of the tumor morphology (e.g. size measured by radius_mean). We will use the features on tumor morphology to train a decision tree that will predict whether the tumor was benign or malignant.\n",
    "\n",
    "#### Step 2: Load the dataset"
   ]
  },
  {
   "cell_type": "code",
   "execution_count": 1,
   "metadata": {},
   "outputs": [],
   "source": [
    "import numpy as np\n",
    "\n",
    "data = np.loadtxt('bc_wisc.csv',delimiter=',',skiprows=1) #skipping header row which contains column names\n",
    "X = data[:,2:]  # Use 3rd, 4th, ..., last column, as our features, X.\n",
    "                # Note that we start counting at 0, so that's why it is 2: rather than 3:\n",
    "y = data[:,1]   # Use 2nd column (diagnosis) as our response variable, the thing we're trying to predict. \n",
    "n = X.shape[0]  # n = number of rows/samples in the dataset"
   ]
  },
  {
   "cell_type": "markdown",
   "metadata": {},
   "source": [
    "#### Step 3: Split the dataset to trainset and testset"
   ]
  },
  {
   "cell_type": "code",
   "execution_count": 2,
   "metadata": {},
   "outputs": [],
   "source": [
    "n_train = int(n*0.6) # We'll use roughly 60% of our dataset to train, the rest to test the model's performance\n",
    "X_train = X[0:n_train,:]\n",
    "y_train = y[0:n_train]\n",
    "X_test = X[n_train:,:]\n",
    "y_test = y[n_train:]"
   ]
  },
  {
   "cell_type": "markdown",
   "metadata": {},
   "source": [
    "#### Step 4: Train a decision tree to predict diagnosis from tumor morphology"
   ]
  },
  {
   "cell_type": "code",
   "execution_count": 3,
   "metadata": {},
   "outputs": [],
   "source": [
    "from sklearn import tree\n",
    "model = tree.DecisionTreeClassifier()\n",
    "model = model.fit(X_train, y_train)"
   ]
  },
  {
   "cell_type": "markdown",
   "metadata": {},
   "source": [
    "#### Step 5: Visualize the decision tree"
   ]
  },
  {
   "cell_type": "code",
   "execution_count": 4,
   "metadata": {},
   "outputs": [
    {
     "data": {
      "text/plain": [
       "'decision_tree_bc_wisc.pdf'"
      ]
     },
     "execution_count": 4,
     "metadata": {},
     "output_type": "execute_result"
    }
   ],
   "source": [
    "import graphviz\n",
    "\n",
    "# First, some logistical things..\n",
    "# Load in the feature/column names:\n",
    "f = open('bc_wisc.csv')\n",
    "column_names = f.readline().strip().split(',')\n",
    "f.close()\n",
    "feature_names = column_names[2:]\n",
    "# Specify what 0 and 1 means in our response variable so that\n",
    "# the rendered decision tree is more readable\n",
    "target_names = ['benign','malignant'] # 0 = benign tumor, 1 = malignant tumor\n",
    "\n",
    "# Render the decision tree into a PDF file\n",
    "model_info = tree.export_graphviz(model, out_file=None,\n",
    "                                  feature_names=feature_names, \n",
    "                                  class_names=target_names,\n",
    "                                  filled=True, rounded=True,special_characters=True)\n",
    "graph = graphviz.Source(model_info)\n",
    "graph.render(\"decision_tree_bc_wisc\",view=True)"
   ]
  },
  {
   "cell_type": "markdown",
   "metadata": {},
   "source": [
    "#### Step 6: Make predictions on the testset, see how well the model performs"
   ]
  },
  {
   "cell_type": "code",
   "execution_count": 8,
   "metadata": {},
   "outputs": [
    {
     "name": "stdout",
     "output_type": "stream",
     "text": [
      "True negative: 131\n",
      "False positive: 11\n",
      "False negative: 8\n",
      "True_positive: 74\n"
     ]
    }
   ],
   "source": [
    "from sklearn.metrics import confusion_matrix\n",
    "\n",
    "# Now we make predictions:\n",
    "y_predict = model.predict(X_test)\n",
    "\n",
    "# See how many we got 'right'. \n",
    "# Note that negative = benign, positive = malignant, even though malignant tumor doesn't seem like a 'positive' thing.\n",
    "true_negative, false_positive, false_negative, true_positive = confusion_matrix(y_test, y_predict).ravel()\n",
    "print('True negative: '+ str(true_negative))\n",
    "print('False positive: ' + str(false_positive))\n",
    "print('False negative: ' + str(false_negative))\n",
    "print('True_positive: ' + str(true_positive))"
   ]
  },
  {
   "cell_type": "markdown",
   "metadata": {},
   "source": [
    "#### Step 7: Plot the test results"
   ]
  },
  {
   "cell_type": "code",
   "execution_count": 9,
   "metadata": {},
   "outputs": [
    {
     "data": {
      "image/png": "[encoded data removed]",
      "text/plain": [
       "<Figure size 432x288 with 2 Axes>"
      ]
     },
     "metadata": {},
     "output_type": "display_data"
    }
   ],
   "source": [
    "import seaborn as sns\n",
    "import matplotlib.pyplot as plt\n",
    "\n",
    "test_result = np.array([[true_negative, false_positive],[false_negative, true_positive]])\n",
    "ax = sns.heatmap(test_result,cmap='Blues',annot=True,fmt='d')\n",
    "ax.set_xlabel('Prediction')\n",
    "ax.set_ylabel('True value')\n",
    "ax.set_xticklabels(target_names)\n",
    "ax.set_yticklabels(target_names,va='center')\n",
    "plt.show()"
   ]
  }
 ],
 "metadata": {
  "kernelspec": {
   "display_name": "Python 3",
   "language": "python",
   "name": "python3"
  },
  "language_info": {
   "codemirror_mode": {
    "name": "ipython",
    "version": 3
   },
   "file_extension": ".py",
   "mimetype": "text/x-python",
   "name": "python",
   "nbconvert_exporter": "python",
   "pygments_lexer": "ipython3",
   "version": "3.6.5"
  }
 },
 "nbformat": 4,
 "nbformat_minor": 2
}
